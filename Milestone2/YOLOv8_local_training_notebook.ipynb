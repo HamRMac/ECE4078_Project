{
 "cells": [
  {
   "cell_type": "markdown",
   "metadata": {
    "id": "N3661y1jhUuq"
   },
   "source": [
    "# YOLOv8 training notebook\n",
    "\n",
    "This notebook provides an example on how you can use Google Colab to train your groceries (fruits and veggies) detector with YOLOv8.\n",
    "\n",
    "This notebook is a simplified version of the [tutorial](https://colab.research.google.com/github/roboflow-ai/notebooks/blob/main/notebooks/train-yolov8-object-detection-on-custom-dataset.ipynb) provided by Roboflow. Please feel free to check out their notebook for a more detailed tutorial."
   ]
  },
  {
   "cell_type": "code",
   "execution_count": 1,
   "metadata": {
    "id": "AtepiEqQcvy1"
   },
   "outputs": [],
   "source": [
    "# Create a new directory with meaningful name in your Google drive\n",
    "# Note that you only need to execute this once\n",
    "\n",
    "%mkdir -p ECE4078_2023/groceries_detector_yolov8/datasets"
   ]
  },
  {
   "cell_type": "code",
   "execution_count": 2,
   "metadata": {
    "colab": {
     "base_uri": "https://localhost:8080/"
    },
    "id": "uhmqJ0wR6aay",
    "outputId": "7d7e5555-8975-4889-f0b3-d56e9c7f57ea"
   },
   "outputs": [
    {
     "name": "stdout",
     "output_type": "stream",
     "text": [
      "/home/ece4078/local/ECE4078_2023/groceries_detector_yolov8\n"
     ]
    }
   ],
   "source": [
    "%cd ECE4078_2023/groceries_detector_yolov8/\n",
    "HOME = 'ECE4078_2023/groceries_detector_yolov8/'\n"
   ]
  },
  {
   "cell_type": "markdown",
   "metadata": {
    "id": "zdQrUKXucBdk"
   },
   "source": [
    "# Install YOLOv8 from pip"
   ]
  },
  {
   "cell_type": "code",
   "execution_count": 3,
   "metadata": {
    "colab": {
     "base_uri": "https://localhost:8080/"
    },
    "id": "EhAck8Jabt7X",
    "outputId": "d9500653-3453-4fa2-fbc8-56c6450ae6de"
   },
   "outputs": [
    {
     "name": "stderr",
     "output_type": "stream",
     "text": [
      "Ultralytics YOLOv8.0.20 🚀 Python-3.8.10 torch-1.12.1+cu116 CUDA:0 (NVIDIA GeForce RTX 3060 Laptop GPU, 6144MiB)\n",
      "Setup complete ✅ (20 CPUs, 15.5 GB RAM, 74.8/1006.9 GB disk)\n"
     ]
    }
   ],
   "source": [
    "!pip install ultralytics==8.0.20\n",
    "\n",
    "from IPython import display\n",
    "display.clear_output()\n",
    "\n",
    "import ultralytics\n",
    "ultralytics.checks()\n",
    "\n",
    "# You may need to \"Restart runtime\" after this step. There is no need to choose \"Disconnect and delete runtime\""
   ]
  },
  {
   "cell_type": "markdown",
   "metadata": {
    "id": "SumRQ2uqdIFj"
   },
   "source": [
    "# Download the dataset"
   ]
  },
  {
   "cell_type": "code",
   "execution_count": 4,
   "metadata": {
    "colab": {
     "base_uri": "https://localhost:8080/"
    },
    "id": "NIEZ74Pxf5Ol",
    "outputId": "ea52d7e6-a206-4030-db4f-a71b974960f4"
   },
   "outputs": [
    {
     "name": "stdout",
     "output_type": "stream",
     "text": [
      "/home/ece4078/local/ECE4078_2023/groceries_detector_yolov8/datasets\n"
     ]
    }
   ],
   "source": [
    "%cd datasets"
   ]
  },
  {
   "cell_type": "code",
   "execution_count": 5,
   "metadata": {
    "colab": {
     "base_uri": "https://localhost:8080/"
    },
    "id": "BrzttSgS0lO6",
    "outputId": "9e105c6d-3953-415e-9971-1222b3facbfd"
   },
   "outputs": [
    {
     "name": "stdout",
     "output_type": "stream",
     "text": [
      "Requirement already satisfied: roboflow in /usr/local/lib/python3.8/dist-packages (1.1.44)\n",
      "Requirement already satisfied: certifi in /usr/local/lib/python3.8/dist-packages (from roboflow) (2023.7.22)\n",
      "Requirement already satisfied: idna==3.7 in /usr/local/lib/python3.8/dist-packages (from roboflow) (3.7)\n",
      "Requirement already satisfied: cycler in /usr/local/lib/python3.8/dist-packages (from roboflow) (0.11.0)\n",
      "Requirement already satisfied: kiwisolver>=1.3.1 in /usr/local/lib/python3.8/dist-packages (from roboflow) (1.4.4)\n",
      "Requirement already satisfied: matplotlib in /usr/local/lib/python3.8/dist-packages (from roboflow) (3.7.2)\n",
      "Requirement already satisfied: numpy>=1.18.5 in /usr/local/lib/python3.8/dist-packages (from roboflow) (1.23.3)\n",
      "Requirement already satisfied: opencv-python-headless==4.10.0.84 in /usr/local/lib/python3.8/dist-packages (from roboflow) (4.10.0.84)\n",
      "Requirement already satisfied: Pillow>=7.1.2 in /usr/local/lib/python3.8/dist-packages (from roboflow) (10.0.0)\n",
      "Requirement already satisfied: python-dateutil in /usr/local/lib/python3.8/dist-packages (from roboflow) (2.8.2)\n",
      "Requirement already satisfied: python-dotenv in /usr/local/lib/python3.8/dist-packages (from roboflow) (1.0.1)\n",
      "Requirement already satisfied: requests in /usr/local/lib/python3.8/dist-packages (from roboflow) (2.31.0)\n",
      "Requirement already satisfied: six in /usr/local/lib/python3.8/dist-packages (from roboflow) (1.16.0)\n",
      "Requirement already satisfied: urllib3>=1.26.6 in /usr/local/lib/python3.8/dist-packages (from roboflow) (1.26.19)\n",
      "Requirement already satisfied: tqdm>=4.41.0 in /usr/local/lib/python3.8/dist-packages (from roboflow) (4.65.0)\n",
      "Requirement already satisfied: PyYAML>=5.3.1 in /usr/local/lib/python3.8/dist-packages (from roboflow) (6.0.1)\n",
      "Requirement already satisfied: requests-toolbelt in /usr/local/lib/python3.8/dist-packages (from roboflow) (1.0.0)\n",
      "Requirement already satisfied: filetype in /usr/local/lib/python3.8/dist-packages (from roboflow) (1.2.0)\n",
      "Requirement already satisfied: contourpy>=1.0.1 in /usr/local/lib/python3.8/dist-packages (from matplotlib->roboflow) (1.1.0)\n",
      "Requirement already satisfied: fonttools>=4.22.0 in /usr/local/lib/python3.8/dist-packages (from matplotlib->roboflow) (4.42.0)\n",
      "Requirement already satisfied: packaging>=20.0 in /usr/local/lib/python3.8/dist-packages (from matplotlib->roboflow) (23.1)\n",
      "Requirement already satisfied: pyparsing<3.1,>=2.3.1 in /usr/local/lib/python3.8/dist-packages (from matplotlib->roboflow) (3.0.9)\n",
      "Requirement already satisfied: importlib-resources>=3.2.0 in /usr/local/lib/python3.8/dist-packages (from matplotlib->roboflow) (6.0.0)\n",
      "Requirement already satisfied: charset-normalizer<4,>=2 in /usr/local/lib/python3.8/dist-packages (from requests->roboflow) (3.2.0)\n",
      "Requirement already satisfied: zipp>=3.1.0 in /usr/local/lib/python3.8/dist-packages (from importlib-resources>=3.2.0->matplotlib->roboflow) (3.16.2)\n",
      "\u001b[33mWARNING: Running pip as the 'root' user can result in broken permissions and conflicting behaviour with the system package manager. It is recommended to use a virtual environment instead: https://pip.pypa.io/warnings/venv\u001b[0m\u001b[33m\n",
      "\u001b[0m\n",
      "\u001b[1m[\u001b[0m\u001b[34;49mnotice\u001b[0m\u001b[1;39;49m]\u001b[0m\u001b[39;49m A new release of pip is available: \u001b[0m\u001b[31;49m23.2.1\u001b[0m\u001b[39;49m -> \u001b[0m\u001b[32;49m24.2\u001b[0m\n",
      "\u001b[1m[\u001b[0m\u001b[34;49mnotice\u001b[0m\u001b[1;39;49m]\u001b[0m\u001b[39;49m To update, run: \u001b[0m\u001b[32;49mpython3 -m pip install --upgrade pip\u001b[0m\n",
      "loading Roboflow workspace...\n",
      "loading Roboflow project...\n",
      "Dependency ultralytics==8.0.196 is required but found version=8.0.20, to fix: `pip install ultralytics==8.0.196`\n"
     ]
    },
    {
     "name": "stderr",
     "output_type": "stream",
     "text": [
      "Downloading Dataset Version Zip in Recognise-Fruits-7 to yolov8:: 100%|██████████| 348534/348534 [00:55<00:00, 6224.33it/s]"
     ]
    },
    {
     "name": "stdout",
     "output_type": "stream",
     "text": [
      "\n"
     ]
    },
    {
     "name": "stderr",
     "output_type": "stream",
     "text": [
      "\n",
      "Extracting Dataset Version Zip to Recognise-Fruits-7 in yolov8:: 100%|██████████| 47540/47540 [04:03<00:00, 195.35it/s]\n"
     ]
    }
   ],
   "source": [
    "\n",
    "                "
   ]
  },
  {
   "cell_type": "markdown",
   "metadata": {
    "id": "bKabvud-3igv"
   },
   "source": [
    "# Train YOLO model"
   ]
  },
  {
   "cell_type": "code",
   "execution_count": 6,
   "metadata": {
    "colab": {
     "base_uri": "https://localhost:8080/"
    },
    "id": "hiLifmw4gKyB",
    "outputId": "66578b58-bee4-4f01-e310-bfe8f62ee530"
   },
   "outputs": [
    {
     "name": "stdout",
     "output_type": "stream",
     "text": [
      "/home/ece4078/local/ECE4078_2023/groceries_detector_yolov8\n"
     ]
    }
   ],
   "source": [
    "# Go back to the home directory: /content/gdrive/MyDrive/ECE4078_2023/groceries_detector_yolov8/\n",
    "%cd .."
   ]
  },
  {
   "cell_type": "code",
   "execution_count": 7,
   "metadata": {
    "colab": {
     "base_uri": "https://localhost:8080/"
    },
    "id": "TtcnNFcA3a4f",
    "outputId": "c1d2ea07-7494-4348-9a95-49d0b952609f"
   },
   "outputs": [
    {
     "name": "stdout",
     "output_type": "stream",
     "text": [
      "Downloading https://github.com/ultralytics/assets/releases/download/v0.0.0/yolov8s.pt to ECE4078_2023/groceries_detector_yolov8/yolov8s.pt...\n",
      "100%|██████████████████████████████████████| 21.5M/21.5M [00:01<00:00, 13.6MB/s]\n",
      "\n",
      "Ultralytics YOLOv8.0.20 🚀 Python-3.8.10 torch-1.12.1+cu116 CUDA:0 (NVIDIA GeForce RTX 3060 Laptop GPU, 6144MiB)\n",
      "\u001b[34m\u001b[1myolo/engine/trainer: \u001b[0mtask=detect, mode=train, model=yolov8s.yaml, data=/home/ece4078/local/ECE4078_2023/groceries_detector_yolov8/datasets/Recognise-Fruits-7/data.yaml, epochs=100, patience=50, batch=12, imgsz=320, save=True, cache=False, device=, workers=8, project=None, name=None, exist_ok=False, pretrained=False, optimizer=SGD, verbose=True, seed=0, deterministic=True, single_cls=False, image_weights=False, rect=False, cos_lr=False, close_mosaic=10, resume=False, overlap_mask=True, mask_ratio=4, dropout=False, val=True, save_json=False, save_hybrid=False, conf=0.001, iou=0.7, max_det=300, half=False, dnn=False, plots=True, source=ultralytics/assets/, show=False, save_txt=False, save_conf=False, save_crop=False, hide_labels=False, hide_conf=False, vid_stride=1, line_thickness=3, visualize=False, augment=False, agnostic_nms=False, classes=None, retina_masks=False, boxes=True, format=torchscript, keras=False, optimize=False, int8=False, dynamic=False, simplify=False, opset=17, workspace=4, nms=False, lr0=0.01, lrf=0.01, momentum=0.937, weight_decay=0.001, warmup_epochs=3.0, warmup_momentum=0.8, warmup_bias_lr=0.1, box=7.5, cls=0.5, dfl=1.5, fl_gamma=0.0, label_smoothing=0.0, nbs=64, hsv_h=0.015, hsv_s=0.7, hsv_v=0.4, degrees=0.0, translate=0.1, scale=0.5, shear=0.0, perspective=0.0, flipud=0.0, fliplr=0.5, mosaic=1.0, mixup=0.0, copy_paste=0.0, cfg=None, v5loader=False, save_dir=runs/detect/train\n",
      "Overriding model.yaml nc=80 with nc=8\n",
      "\n",
      "                   from  n    params  module                                       arguments                     \n",
      "  0                  -1  1       928  ultralytics.nn.modules.Conv                  [3, 32, 3, 2]                 \n",
      "  1                  -1  1     18560  ultralytics.nn.modules.Conv                  [32, 64, 3, 2]                \n",
      "  2                  -1  1     29056  ultralytics.nn.modules.C2f                   [64, 64, 1, True]             \n",
      "  3                  -1  1     73984  ultralytics.nn.modules.Conv                  [64, 128, 3, 2]               \n",
      "  4                  -1  2    197632  ultralytics.nn.modules.C2f                   [128, 128, 2, True]           \n",
      "  5                  -1  1    295424  ultralytics.nn.modules.Conv                  [128, 256, 3, 2]              \n",
      "  6                  -1  2    788480  ultralytics.nn.modules.C2f                   [256, 256, 2, True]           \n",
      "  7                  -1  1   1180672  ultralytics.nn.modules.Conv                  [256, 512, 3, 2]              \n",
      "  8                  -1  1   1838080  ultralytics.nn.modules.C2f                   [512, 512, 1, True]           \n",
      "  9                  -1  1    656896  ultralytics.nn.modules.SPPF                  [512, 512, 5]                 \n",
      " 10                  -1  1         0  torch.nn.modules.upsampling.Upsample         [None, 2, 'nearest']          \n",
      " 11             [-1, 6]  1         0  ultralytics.nn.modules.Concat                [1]                           \n",
      " 12                  -1  1    591360  ultralytics.nn.modules.C2f                   [768, 256, 1]                 \n",
      " 13                  -1  1         0  torch.nn.modules.upsampling.Upsample         [None, 2, 'nearest']          \n",
      " 14             [-1, 4]  1         0  ultralytics.nn.modules.Concat                [1]                           \n",
      " 15                  -1  1    148224  ultralytics.nn.modules.C2f                   [384, 128, 1]                 \n",
      " 16                  -1  1    147712  ultralytics.nn.modules.Conv                  [128, 128, 3, 2]              \n",
      " 17            [-1, 12]  1         0  ultralytics.nn.modules.Concat                [1]                           \n",
      " 18                  -1  1    493056  ultralytics.nn.modules.C2f                   [384, 256, 1]                 \n",
      " 19                  -1  1    590336  ultralytics.nn.modules.Conv                  [256, 256, 3, 2]              \n",
      " 20             [-1, 9]  1         0  ultralytics.nn.modules.Concat                [1]                           \n",
      " 21                  -1  1   1969152  ultralytics.nn.modules.C2f                   [768, 512, 1]                 \n",
      " 22        [15, 18, 21]  1   2119144  ultralytics.nn.modules.Detect                [8, [128, 256, 512]]          \n",
      "Model summary: 225 layers, 11138696 parameters, 11138680 gradients, 28.7 GFLOPs\n",
      "\n",
      "Transferred 349/355 items from pretrained weights\n",
      "\u001b[34m\u001b[1moptimizer:\u001b[0m SGD(lr=0.01) with parameter groups 57 weight(decay=0.0), 64 weight(decay=0.0009375), 63 bias\n",
      "\u001b[34m\u001b[1mtrain: \u001b[0mScanning /home/ece4078/local/ECE4078_2023/groceries_detector_yolov8/datas\u001b[0m^C\n",
      "\u001b[34m\u001b[1mtrain: \u001b[0mScanning /home/ece4078/local/ECE4078_2023/groceries_detector_yolov8/datas\u001b[0m\n",
      "Traceback (most recent call last):\n",
      "  File \"/usr/local/lib/python3.8/dist-packages/ultralytics/yolo/data/dataset.py\", line 103, in get_labels\n",
      "    cache, exists = np.load(str(cache_path), allow_pickle=True).item(), True  # load dict\n",
      "  File \"/usr/local/lib/python3.8/dist-packages/numpy/lib/npyio.py\", line 390, in load\n",
      "    fid = stack.enter_context(open(os_fspath(file), \"rb\"))\n",
      "FileNotFoundError: [Errno 2] No such file or directory: '/home/ece4078/local/ECE4078_2023/groceries_detector_yolov8/datasets/Recognise-Fruits-7/train/labels.cache'\n",
      "\n",
      "During handling of the above exception, another exception occurred:\n",
      "\n",
      "Traceback (most recent call last):\n",
      "  File \"/usr/lib/python3.8/multiprocessing/pool.py\", line 851, in next\n",
      "    item = self._items.popleft()\n",
      "IndexError: pop from an empty deque\n",
      "\n",
      "During handling of the above exception, another exception occurred:\n",
      "\n",
      "Traceback (most recent call last):\n",
      "  File \"/usr/local/bin/yolo\", line 8, in <module>\n",
      "    sys.exit(entrypoint())\n",
      "  File \"/usr/local/lib/python3.8/dist-packages/ultralytics/yolo/cfg/__init__.py\", line 249, in entrypoint\n",
      "    getattr(model, mode)(verbose=True, **overrides)\n",
      "  File \"/usr/local/lib/python3.8/dist-packages/ultralytics/yolo/engine/model.py\", line 207, in train\n",
      "    self.trainer.train()\n",
      "  File \"/usr/local/lib/python3.8/dist-packages/ultralytics/yolo/engine/trainer.py\", line 183, in train\n",
      "    self._do_train(int(os.getenv(\"RANK\", -1)), world_size)\n",
      "  File \"/usr/local/lib/python3.8/dist-packages/ultralytics/yolo/engine/trainer.py\", line 248, in _do_train\n",
      "    self._setup_train(rank, world_size)\n",
      "  File \"/usr/local/lib/python3.8/dist-packages/ultralytics/yolo/engine/trainer.py\", line 234, in _setup_train\n",
      "    self.train_loader = self.get_dataloader(self.trainset, batch_size=batch_size, rank=rank, mode=\"train\")\n",
      "  File \"/usr/local/lib/python3.8/dist-packages/ultralytics/yolo/v8/detect/train.py\", line 43, in get_dataloader\n",
      "    build_dataloader(self.args, batch_size, img_path=dataset_path, stride=gs, rank=rank, mode=mode)[0]\n",
      "  File \"/usr/local/lib/python3.8/dist-packages/ultralytics/yolo/data/build.py\", line 64, in build_dataloader\n",
      "    dataset = YOLODataset(\n",
      "  File \"/usr/local/lib/python3.8/dist-packages/ultralytics/yolo/data/dataset.py\", line 45, in __init__\n",
      "    super().__init__(img_path, imgsz, label_path, cache, augment, hyp, prefix, rect, batch_size, stride, pad,\n",
      "  File \"/usr/local/lib/python3.8/dist-packages/ultralytics/yolo/data/base.py\", line 51, in __init__\n",
      "    self.labels = self.get_labels()\n",
      "  File \"/usr/local/lib/python3.8/dist-packages/ultralytics/yolo/data/dataset.py\", line 107, in get_labels\n",
      "    cache, exists = self.cache_labels(cache_path), False  # run cache ops\n",
      "  File \"/usr/local/lib/python3.8/dist-packages/ultralytics/yolo/data/dataset.py\", line 61, in cache_labels\n",
      "    for im_file, lb, shape, segments, keypoint, nm_f, nf_f, ne_f, nc_f, msg in pbar:\n",
      "  File \"/usr/local/lib/python3.8/dist-packages/tqdm/std.py\", line 1178, in __iter__\n",
      "    for obj in iterable:\n",
      "  File \"/usr/lib/python3.8/multiprocessing/pool.py\", line 856, in next\n",
      "    self._cond.wait(timeout)\n",
      "  File \"/usr/lib/python3.8/threading.py\", line 302, in wait\n",
      "    waiter.acquire()\n",
      "KeyboardInterrupt\n"
     ]
    }
   ],
   "source": [
    "# please check if your imgsz match the image size of your dataset before training\n",
    "!yolo task=detect mode=train model={HOME}/yolov8s.pt data=\"{dataset.location}/data.yaml\" batch=12 epochs=100 imgsz=320 plots=True"
   ]
  },
  {
   "cell_type": "markdown",
   "metadata": {
    "id": "3zst3-VEXv_E"
   },
   "source": [
    "# Test your model"
   ]
  },
  {
   "cell_type": "code",
   "execution_count": 8,
   "metadata": {
    "colab": {
     "base_uri": "https://localhost:8080/"
    },
    "id": "uMUkOjHKXsXb",
    "outputId": "b4c080ae-eeb7-4b58-8908-976190011bc8"
   },
   "outputs": [
    {
     "name": "stdout",
     "output_type": "stream",
     "text": [
      "/home/ece4078/local/ECE4078_2023/groceries_detector_yolov8/ECE4078_2023/groceries_detector_yolov8\n",
      "Traceback (most recent call last):\n",
      "  File \"/usr/local/bin/yolo\", line 8, in <module>\n",
      "    sys.exit(entrypoint())\n",
      "  File \"/usr/local/lib/python3.8/dist-packages/ultralytics/yolo/cfg/__init__.py\", line 230, in entrypoint\n",
      "    model = YOLO(model)\n",
      "  File \"/usr/local/lib/python3.8/dist-packages/ultralytics/yolo/engine/model.py\", line 60, in __init__\n",
      "    {'.pt': self._load, '.yaml': self._new}[suffix](model)\n",
      "  File \"/usr/local/lib/python3.8/dist-packages/ultralytics/yolo/engine/model.py\", line 90, in _load\n",
      "    self.model, self.ckpt = attempt_load_one_weight(weights)\n",
      "  File \"/usr/local/lib/python3.8/dist-packages/ultralytics/nn/tasks.py\", line 384, in attempt_load_one_weight\n",
      "    ckpt = torch_safe_load(weight)  # load ckpt\n",
      "  File \"/usr/local/lib/python3.8/dist-packages/ultralytics/nn/tasks.py\", line 332, in torch_safe_load\n",
      "    return torch.load(file, map_location='cpu')  # load\n",
      "  File \"/usr/local/lib/python3.8/dist-packages/torch/serialization.py\", line 699, in load\n",
      "    with _open_file_like(f, 'rb') as opened_file:\n",
      "  File \"/usr/local/lib/python3.8/dist-packages/torch/serialization.py\", line 230, in _open_file_like\n",
      "    return _open_file(name_or_buffer, mode)\n",
      "  File \"/usr/local/lib/python3.8/dist-packages/torch/serialization.py\", line 211, in __init__\n",
      "    super(_open_file, self).__init__(open(name, mode))\n",
      "FileNotFoundError: [Errno 2] No such file or directory: 'ECE4078_2023/groceries_detector_yolov8/runs/detect/train5/weights/best.pt'\n",
      "Sentry is attempting to send 1 pending events\n",
      "Waiting up to 2 seconds\n",
      "Press Ctrl-C to quit\n"
     ]
    }
   ],
   "source": [
    "# check the training outputs to find where your weights are stored\n",
    "\n",
    "%cd {HOME}\n",
    "!yolo task=detect mode=predict model={HOME}/runs/detect/train5/weights/best.pt conf=0.25 source=\"{dataset.location}/test/images\" save=True"
   ]
  }
 ],
 "metadata": {
  "accelerator": "GPU",
  "colab": {
   "gpuClass": "premium",
   "gpuType": "T4",
   "machine_shape": "hm",
   "provenance": []
  },
  "gpuClass": "premium",
  "kernelspec": {
   "display_name": "Python 3 (ipykernel)",
   "language": "python",
   "name": "python3"
  },
  "language_info": {
   "codemirror_mode": {
    "name": "ipython",
    "version": 3
   },
   "file_extension": ".py",
   "mimetype": "text/x-python",
   "name": "python",
   "nbconvert_exporter": "python",
   "pygments_lexer": "ipython3",
   "version": "3.8.10"
  }
 },
 "nbformat": 4,
 "nbformat_minor": 4
}
