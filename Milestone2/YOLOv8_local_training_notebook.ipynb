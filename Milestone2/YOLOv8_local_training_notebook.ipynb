{
 "cells": [
  {
   "cell_type": "markdown",
   "metadata": {
    "id": "N3661y1jhUuq"
   },
   "source": [
    "# YOLOv8 training notebook\n",
    "\n",
    "This notebook provides an example on how you can use Google Colab to train your groceries (fruits and veggies) detector with YOLOv8.\n",
    "\n",
    "This notebook is a simplified version of the [tutorial](https://colab.research.google.com/github/roboflow-ai/notebooks/blob/main/notebooks/train-yolov8-object-detection-on-custom-dataset.ipynb) provided by Roboflow. Please feel free to check out their notebook for a more detailed tutorial."
   ]
  },
  {
   "cell_type": "code",
   "execution_count": 3,
   "metadata": {
    "id": "AtepiEqQcvy1"
   },
   "outputs": [
    {
     "name": "stderr",
     "output_type": "stream",
     "text": [
      "A subdirectory or file groceries_detector_yolov8 already exists.\n",
      "A subdirectory or file groceries_detector_yolov8\\datasets already exists.\n"
     ]
    }
   ],
   "source": [
    "# Create a new directory with meaningful name in your Google drive\n",
    "# Note that you only need to execute this once\n",
    "\n",
    "%mkdir groceries_detector_yolov8\n",
    "%mkdir groceries_detector_yolov8\\datasets"
   ]
  },
  {
   "cell_type": "code",
   "execution_count": 4,
   "metadata": {
    "colab": {
     "base_uri": "https://localhost:8080/"
    },
    "id": "uhmqJ0wR6aay",
    "outputId": "7d7e5555-8975-4889-f0b3-d56e9c7f57ea"
   },
   "outputs": [
    {
     "name": "stdout",
     "output_type": "stream",
     "text": [
      "c:\\Users\\reind\\Documents\\University\\Intelligent Robotics\\ECE4078_Project\\Milestone2\\groceries_detector_yolov8\n"
     ]
    }
   ],
   "source": [
    "%cd groceries_detector_yolov8\n",
    "HOME = 'groceries_detector_yolov8'\n"
   ]
  },
  {
   "cell_type": "markdown",
   "metadata": {
    "id": "zdQrUKXucBdk"
   },
   "source": [
    "# Install YOLOv8 from pip"
   ]
  },
  {
   "cell_type": "code",
   "execution_count": 5,
   "metadata": {
    "colab": {
     "base_uri": "https://localhost:8080/"
    },
    "id": "EhAck8Jabt7X",
    "outputId": "d9500653-3453-4fa2-fbc8-56c6450ae6de"
   },
   "outputs": [
    {
     "name": "stderr",
     "output_type": "stream",
     "text": [
      "Ultralytics YOLOv8.0.20  Python-3.10.18 torch-2.8.0+cu129 CUDA:0 (NVIDIA GeForce RTX 3060 Laptop GPU, 6144MiB)\n",
      "Setup complete  (20 CPUs, 31.7 GB RAM, 931.1/951.6 GB disk)\n"
     ]
    }
   ],
   "source": [
    "!pip install ultralytics==8.0.20\n",
    "\n",
    "from IPython import display\n",
    "display.clear_output()\n",
    "\n",
    "import ultralytics\n",
    "ultralytics.checks()\n",
    "\n",
    "# You may need to \"Restart runtime\" after this step. There is no need to choose \"Disconnect and delete runtime\""
   ]
  },
  {
   "cell_type": "markdown",
   "metadata": {
    "id": "SumRQ2uqdIFj"
   },
   "source": [
    "# Download the dataset"
   ]
  },
  {
   "cell_type": "code",
   "execution_count": 6,
   "metadata": {
    "colab": {
     "base_uri": "https://localhost:8080/"
    },
    "id": "NIEZ74Pxf5Ol",
    "outputId": "ea52d7e6-a206-4030-db4f-a71b974960f4"
   },
   "outputs": [
    {
     "name": "stdout",
     "output_type": "stream",
     "text": [
      "c:\\Users\\reind\\Documents\\University\\Intelligent Robotics\\ECE4078_Project\\Milestone2\\groceries_detector_yolov8\\datasets\n"
     ]
    }
   ],
   "source": [
    "%cd datasets"
   ]
  },
  {
   "cell_type": "code",
   "execution_count": 5,
   "metadata": {
    "colab": {
     "base_uri": "https://localhost:8080/"
    },
    "id": "BrzttSgS0lO6",
    "outputId": "9e105c6d-3953-415e-9971-1222b3facbfd"
   },
   "outputs": [
    {
     "name": "stdout",
     "output_type": "stream",
     "text": [
      "Requirement already satisfied: roboflow in /usr/local/lib/python3.8/dist-packages (1.1.44)\n",
      "Requirement already satisfied: certifi in /usr/local/lib/python3.8/dist-packages (from roboflow) (2023.7.22)\n",
      "Requirement already satisfied: idna==3.7 in /usr/local/lib/python3.8/dist-packages (from roboflow) (3.7)\n",
      "Requirement already satisfied: cycler in /usr/local/lib/python3.8/dist-packages (from roboflow) (0.11.0)\n",
      "Requirement already satisfied: kiwisolver>=1.3.1 in /usr/local/lib/python3.8/dist-packages (from roboflow) (1.4.4)\n",
      "Requirement already satisfied: matplotlib in /usr/local/lib/python3.8/dist-packages (from roboflow) (3.7.2)\n",
      "Requirement already satisfied: numpy>=1.18.5 in /usr/local/lib/python3.8/dist-packages (from roboflow) (1.23.3)\n",
      "Requirement already satisfied: opencv-python-headless==4.10.0.84 in /usr/local/lib/python3.8/dist-packages (from roboflow) (4.10.0.84)\n",
      "Requirement already satisfied: Pillow>=7.1.2 in /usr/local/lib/python3.8/dist-packages (from roboflow) (10.0.0)\n",
      "Requirement already satisfied: python-dateutil in /usr/local/lib/python3.8/dist-packages (from roboflow) (2.8.2)\n",
      "Requirement already satisfied: python-dotenv in /usr/local/lib/python3.8/dist-packages (from roboflow) (1.0.1)\n",
      "Requirement already satisfied: requests in /usr/local/lib/python3.8/dist-packages (from roboflow) (2.31.0)\n",
      "Requirement already satisfied: six in /usr/local/lib/python3.8/dist-packages (from roboflow) (1.16.0)\n",
      "Requirement already satisfied: urllib3>=1.26.6 in /usr/local/lib/python3.8/dist-packages (from roboflow) (1.26.19)\n",
      "Requirement already satisfied: tqdm>=4.41.0 in /usr/local/lib/python3.8/dist-packages (from roboflow) (4.65.0)\n",
      "Requirement already satisfied: PyYAML>=5.3.1 in /usr/local/lib/python3.8/dist-packages (from roboflow) (6.0.1)\n",
      "Requirement already satisfied: requests-toolbelt in /usr/local/lib/python3.8/dist-packages (from roboflow) (1.0.0)\n",
      "Requirement already satisfied: filetype in /usr/local/lib/python3.8/dist-packages (from roboflow) (1.2.0)\n",
      "Requirement already satisfied: contourpy>=1.0.1 in /usr/local/lib/python3.8/dist-packages (from matplotlib->roboflow) (1.1.0)\n",
      "Requirement already satisfied: fonttools>=4.22.0 in /usr/local/lib/python3.8/dist-packages (from matplotlib->roboflow) (4.42.0)\n",
      "Requirement already satisfied: packaging>=20.0 in /usr/local/lib/python3.8/dist-packages (from matplotlib->roboflow) (23.1)\n",
      "Requirement already satisfied: pyparsing<3.1,>=2.3.1 in /usr/local/lib/python3.8/dist-packages (from matplotlib->roboflow) (3.0.9)\n",
      "Requirement already satisfied: importlib-resources>=3.2.0 in /usr/local/lib/python3.8/dist-packages (from matplotlib->roboflow) (6.0.0)\n",
      "Requirement already satisfied: charset-normalizer<4,>=2 in /usr/local/lib/python3.8/dist-packages (from requests->roboflow) (3.2.0)\n",
      "Requirement already satisfied: zipp>=3.1.0 in /usr/local/lib/python3.8/dist-packages (from importlib-resources>=3.2.0->matplotlib->roboflow) (3.16.2)\n",
      "\u001b[33mWARNING: Running pip as the 'root' user can result in broken permissions and conflicting behaviour with the system package manager. It is recommended to use a virtual environment instead: https://pip.pypa.io/warnings/venv\u001b[0m\u001b[33m\n",
      "\u001b[0m\n",
      "\u001b[1m[\u001b[0m\u001b[34;49mnotice\u001b[0m\u001b[1;39;49m]\u001b[0m\u001b[39;49m A new release of pip is available: \u001b[0m\u001b[31;49m23.2.1\u001b[0m\u001b[39;49m -> \u001b[0m\u001b[32;49m24.2\u001b[0m\n",
      "\u001b[1m[\u001b[0m\u001b[34;49mnotice\u001b[0m\u001b[1;39;49m]\u001b[0m\u001b[39;49m To update, run: \u001b[0m\u001b[32;49mpython3 -m pip install --upgrade pip\u001b[0m\n",
      "loading Roboflow workspace...\n",
      "loading Roboflow project...\n",
      "Dependency ultralytics==8.0.196 is required but found version=8.0.20, to fix: `pip install ultralytics==8.0.196`\n"
     ]
    },
    {
     "name": "stderr",
     "output_type": "stream",
     "text": [
      "Downloading Dataset Version Zip in Recognise-Fruits-7 to yolov8:: 100%|██████████| 348534/348534 [00:55<00:00, 6224.33it/s]"
     ]
    },
    {
     "name": "stdout",
     "output_type": "stream",
     "text": [
      "\n"
     ]
    },
    {
     "name": "stderr",
     "output_type": "stream",
     "text": [
      "\n",
      "Extracting Dataset Version Zip to Recognise-Fruits-7 in yolov8:: 100%|██████████| 47540/47540 [04:03<00:00, 195.35it/s]\n"
     ]
    }
   ],
   "source": [
    "\n",
    "                "
   ]
  },
  {
   "cell_type": "markdown",
   "metadata": {
    "id": "bKabvud-3igv"
   },
   "source": [
    "# Train YOLO model"
   ]
  },
  {
   "cell_type": "code",
   "execution_count": 7,
   "metadata": {
    "colab": {
     "base_uri": "https://localhost:8080/"
    },
    "id": "hiLifmw4gKyB",
    "outputId": "66578b58-bee4-4f01-e310-bfe8f62ee530"
   },
   "outputs": [
    {
     "name": "stdout",
     "output_type": "stream",
     "text": [
      "c:\\Users\\reind\\Documents\\University\\Intelligent Robotics\\ECE4078_Project\\Milestone2\\groceries_detector_yolov8\n"
     ]
    }
   ],
   "source": [
    "# Go back to the home directory: /content/gdrive/MyDrive/ECE4078_2023/groceries_detector_yolov8/\n",
    "%cd .."
   ]
  },
  {
   "cell_type": "code",
   "execution_count": 8,
   "metadata": {
    "colab": {
     "base_uri": "https://localhost:8080/"
    },
    "id": "TtcnNFcA3a4f",
    "outputId": "c1d2ea07-7494-4348-9a95-49d0b952609f"
   },
   "outputs": [
    {
     "name": "stderr",
     "output_type": "stream",
     "text": [
      "C:\\Users\\reind\\anaconda3\\envs\\ECE4078\\lib\\site-packages\\ultralytics\\yolo\\utils\\checks.py:16: UserWarning: pkg_resources is deprecated as an API. See https://setuptools.pypa.io/en/latest/pkg_resources.html. The pkg_resources package is slated for removal as early as 2025-11-30. Refrain from using this package or pin to Setuptools<81.\n",
      "  import pkg_resources as pkg\n",
      "Traceback (most recent call last):\n",
      "  File \"C:\\Users\\reind\\anaconda3\\envs\\ECE4078\\lib\\runpy.py\", line 196, in _run_module_as_main\n",
      "    return _run_code(code, main_globals, None,\n",
      "  File \"C:\\Users\\reind\\anaconda3\\envs\\ECE4078\\lib\\runpy.py\", line 86, in _run_code\n",
      "    exec(code, run_globals)\n",
      "  File \"C:\\Users\\reind\\anaconda3\\envs\\ECE4078\\Scripts\\yolo.exe\\__main__.py\", line 7, in <module>\n",
      "    sys.exit(entrypoint())\n",
      "  File \"C:\\Users\\reind\\anaconda3\\envs\\ECE4078\\lib\\site-packages\\ultralytics\\yolo\\cfg\\__init__.py\", line 230, in entrypoint\n",
      "    model = YOLO(model)\n",
      "  File \"C:\\Users\\reind\\anaconda3\\envs\\ECE4078\\lib\\site-packages\\ultralytics\\yolo\\engine\\model.py\", line 60, in __init__\n",
      "    {'.pt': self._load, '.yaml': self._new}[suffix](model)\n",
      "  File \"C:\\Users\\reind\\anaconda3\\envs\\ECE4078\\lib\\site-packages\\ultralytics\\yolo\\engine\\model.py\", line 90, in _load\n",
      "    self.model, self.ckpt = attempt_load_one_weight(weights)\n",
      "  File \"C:\\Users\\reind\\anaconda3\\envs\\ECE4078\\lib\\site-packages\\ultralytics\\nn\\tasks.py\", line 384, in attempt_load_one_weight\n",
      "    ckpt = torch_safe_load(weight)  # load ckpt\n",
      "  File \"C:\\Users\\reind\\anaconda3\\envs\\ECE4078\\lib\\site-packages\\ultralytics\\nn\\tasks.py\", line 332, in torch_safe_load\n",
      "    return torch.load(file, map_location='cpu')  # load\n",
      "  File \"C:\\Users\\reind\\anaconda3\\envs\\ECE4078\\lib\\site-packages\\torch\\serialization.py\", line 1529, in load\n",
      "    raise pickle.UnpicklingError(_get_wo_message(str(e))) from None\n",
      "_pickle.UnpicklingError: Weights only load failed. This file can still be loaded, to do so you have two options, \u001b[1mdo those steps only if you trust the source of the checkpoint\u001b[0m. \n",
      "\t(1) In PyTorch 2.6, we changed the default value of the `weights_only` argument in `torch.load` from `False` to `True`. Re-running `torch.load` with `weights_only` set to `False` will likely succeed, but it can result in arbitrary code execution. Do it only if you got the file from a trusted source.\n",
      "\t(2) Alternatively, to load with `weights_only=True` please check the recommended steps in the following error message.\n",
      "\tWeightsUnpickler error: Unsupported global: GLOBAL ultralytics.nn.tasks.DetectionModel was not an allowed global by default. Please use `torch.serialization.add_safe_globals([ultralytics.nn.tasks.DetectionModel])` or the `torch.serialization.safe_globals([ultralytics.nn.tasks.DetectionModel])` context manager to allowlist this global if you trust this class/function.\n",
      "\n",
      "Check the documentation of torch.load to learn more about types accepted by default with weights_only https://pytorch.org/docs/stable/generated/torch.load.html.\n",
      "Sentry is attempting to send 2 pending events\n",
      "Waiting up to 2 seconds\n",
      "Press Ctrl-Break to quit\n"
     ]
    }
   ],
   "source": [
    "# please check if your imgsz match the image size of your dataset before training\n",
    "!yolo task=detect mode=train model={HOME}/yolov8s.pt data=\"{dataset.location}/data.yaml\" batch=12 epochs=100 imgsz=320 plots=True"
   ]
  },
  {
   "cell_type": "markdown",
   "metadata": {
    "id": "3zst3-VEXv_E"
   },
   "source": [
    "# Test your model"
   ]
  },
  {
   "cell_type": "code",
   "execution_count": 8,
   "metadata": {
    "colab": {
     "base_uri": "https://localhost:8080/"
    },
    "id": "uMUkOjHKXsXb",
    "outputId": "b4c080ae-eeb7-4b58-8908-976190011bc8"
   },
   "outputs": [
    {
     "name": "stdout",
     "output_type": "stream",
     "text": [
      "/home/ece4078/local/ECE4078_2023/groceries_detector_yolov8/ECE4078_2023/groceries_detector_yolov8\n",
      "Traceback (most recent call last):\n",
      "  File \"/usr/local/bin/yolo\", line 8, in <module>\n",
      "    sys.exit(entrypoint())\n",
      "  File \"/usr/local/lib/python3.8/dist-packages/ultralytics/yolo/cfg/__init__.py\", line 230, in entrypoint\n",
      "    model = YOLO(model)\n",
      "  File \"/usr/local/lib/python3.8/dist-packages/ultralytics/yolo/engine/model.py\", line 60, in __init__\n",
      "    {'.pt': self._load, '.yaml': self._new}[suffix](model)\n",
      "  File \"/usr/local/lib/python3.8/dist-packages/ultralytics/yolo/engine/model.py\", line 90, in _load\n",
      "    self.model, self.ckpt = attempt_load_one_weight(weights)\n",
      "  File \"/usr/local/lib/python3.8/dist-packages/ultralytics/nn/tasks.py\", line 384, in attempt_load_one_weight\n",
      "    ckpt = torch_safe_load(weight)  # load ckpt\n",
      "  File \"/usr/local/lib/python3.8/dist-packages/ultralytics/nn/tasks.py\", line 332, in torch_safe_load\n",
      "    return torch.load(file, map_location='cpu')  # load\n",
      "  File \"/usr/local/lib/python3.8/dist-packages/torch/serialization.py\", line 699, in load\n",
      "    with _open_file_like(f, 'rb') as opened_file:\n",
      "  File \"/usr/local/lib/python3.8/dist-packages/torch/serialization.py\", line 230, in _open_file_like\n",
      "    return _open_file(name_or_buffer, mode)\n",
      "  File \"/usr/local/lib/python3.8/dist-packages/torch/serialization.py\", line 211, in __init__\n",
      "    super(_open_file, self).__init__(open(name, mode))\n",
      "FileNotFoundError: [Errno 2] No such file or directory: 'ECE4078_2023/groceries_detector_yolov8/runs/detect/train5/weights/best.pt'\n",
      "Sentry is attempting to send 1 pending events\n",
      "Waiting up to 2 seconds\n",
      "Press Ctrl-C to quit\n"
     ]
    }
   ],
   "source": [
    "# check the training outputs to find where your weights are stored\n",
    "\n",
    "%cd {HOME}\n",
    "!yolo task=detect mode=predict model={HOME}/runs/detect/train5/weights/best.pt conf=0.25 source=\"{dataset.location}/test/images\" save=True"
   ]
  }
 ],
 "metadata": {
  "accelerator": "GPU",
  "colab": {
   "gpuClass": "premium",
   "gpuType": "T4",
   "machine_shape": "hm",
   "provenance": []
  },
  "gpuClass": "premium",
  "kernelspec": {
   "display_name": "ECE4078",
   "language": "python",
   "name": "python3"
  },
  "language_info": {
   "codemirror_mode": {
    "name": "ipython",
    "version": 3
   },
   "file_extension": ".py",
   "mimetype": "text/x-python",
   "name": "python",
   "nbconvert_exporter": "python",
   "pygments_lexer": "ipython3",
   "version": "3.10.18"
  }
 },
 "nbformat": 4,
 "nbformat_minor": 4
}
